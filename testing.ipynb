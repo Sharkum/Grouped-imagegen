{
 "cells": [
  {
   "cell_type": "code",
   "execution_count": 1,
   "metadata": {},
   "outputs": [],
   "source": [
    "import os,sys\n",
    "import numpy as np\n",
    "import pandas as pd\n",
    "import cv2\n",
    "from PIL import Image\n",
    "import torch\n",
    "from rembg import remove\n",
    "from torchvision import transforms\n",
    "from sklearn.model_selection import train_test_split\n",
    "from classes.generate_data import image_proc,imagegen\n",
    "from classes.splitter import  train_val_splitter"
   ]
  },
  {
   "cell_type": "markdown",
   "metadata": {},
   "source": [
    "# Generation"
   ]
  },
  {
   "cell_type": "code",
   "execution_count": 3,
   "metadata": {},
   "outputs": [],
   "source": [
    "class image_proc_2(image_proc):\n",
    "    \n",
    "    def __init__(self, img_dir, output_dir):\n",
    "        super().__init__(img_dir, output_dir)\n",
    "        return\n",
    "    \n",
    "    def load_model(self):\n",
    "        model = torch.hub.load('pytorch/vision:v0.10.0', 'deeplabv3_resnet50', pretrained=True)\n",
    "        model.eval()\n",
    "        return model\n",
    "\n",
    "    def make_transparent_foreground(self,pic, mask):\n",
    "        b, g, r = cv2.split(np.array(pic).astype('uint8'))\n",
    "        a = np.ones(mask.shape, dtype='uint8') * 255\n",
    "        alpha_im = cv2.merge([b, g, r, a], 4)\n",
    "        bg = np.zeros(alpha_im.shape)\n",
    "        new_mask = np.stack([mask, mask, mask, mask], axis=2)\n",
    "        foreground = np.where(new_mask, alpha_im, bg).astype(np.uint8)\n",
    "\n",
    "        return foreground\n",
    "\n",
    "    def get_foreground(self,model, input_file):\n",
    "        input_image = input_file\n",
    "        preprocess = transforms.Compose([\n",
    "            transforms.ToTensor(),\n",
    "            transforms.Normalize(mean=[0.485, 0.456, 0.406], std=[0.229, 0.224, 0.225]),\n",
    "        ])\n",
    "\n",
    "        input_tensor = preprocess(input_image)\n",
    "        input_batch = input_tensor.unsqueeze(0) \n",
    "\n",
    "        if torch.cuda.is_available():\n",
    "            input_batch = input_batch.to('cuda')\n",
    "            model.to('cuda')\n",
    "\n",
    "        with torch.no_grad():\n",
    "            output = model(input_batch)['out'][0]\n",
    "        output_predictions = output.argmax(0)\n",
    "\n",
    "        mask = output_predictions.byte().cpu().numpy()\n",
    "        background = np.zeros(mask.shape)\n",
    "        bin_mask = np.where(mask, 255, background).astype(np.uint8)\n",
    "\n",
    "        foreground = self.make_transparent_foreground(input_image ,bin_mask)\n",
    "\n",
    "        return foreground\n",
    "    \n",
    "    def remove_background(self, limit=None):\n",
    "        print('removing background')\n",
    "        self.load_imgs(limit=limit)\n",
    "        model = self.load_model()\n",
    "        for i in range(len(self.imgs)):\n",
    "            # if i%(len(self.imgs)//100) == 0:\n",
    "            #     print(i)\n",
    "            tmp = self.imgs[i]\n",
    "            self.imgs[i] = Image.fromarray(self.get_foreground(model,tmp))\n",
    "            display(self.imgs[i])\n",
    "            self.imgs[i].filename = tmp.filename\n",
    "        return \n"
   ]
  },
  {
   "cell_type": "code",
   "execution_count": 3,
   "metadata": {},
   "outputs": [
    {
     "name": "stdout",
     "output_type": "stream",
     "text": [
      "removing background\n",
      "removing invis\n"
     ]
    }
   ],
   "source": [
    "process = image_proc('images','processed_imgs_2')\n",
    "process.proc_save(remove_background=True,crop=True,save=True)"
   ]
  },
  {
   "cell_type": "code",
   "execution_count": 7,
   "metadata": {},
   "outputs": [],
   "source": [
    "generator = imagegen('processed_imgs',6,(900,400),'background.png','output_dir')"
   ]
  },
  {
   "cell_type": "code",
   "execution_count": 9,
   "metadata": {},
   "outputs": [],
   "source": [
    "a = generator.generate_batch(seed=0,batch_size=100)"
   ]
  },
  {
   "cell_type": "markdown",
   "metadata": {},
   "source": [
    "# Splitting"
   ]
  },
  {
   "cell_type": "code",
   "execution_count": 2,
   "metadata": {},
   "outputs": [],
   "source": [
    "splitter = train_val_splitter('processed_imgs','output_dir/labels',output_dir='processed_imgs')"
   ]
  },
  {
   "cell_type": "code",
   "execution_count": 3,
   "metadata": {},
   "outputs": [],
   "source": [
    "splitter.proc_split()"
   ]
  },
  {
   "cell_type": "code",
   "execution_count": 1,
   "metadata": {},
   "outputs": [],
   "source": [
    "from main import *"
   ]
  },
  {
   "cell_type": "code",
   "execution_count": 4,
   "metadata": {},
   "outputs": [
    {
     "name": "stdout",
     "output_type": "stream",
     "text": [
      "[2] images were selected\n",
      "[0 1] were the indices that were selected\n"
     ]
    }
   ],
   "source": [
    "generate_overlapping_images('processed_imgs','train','background.png','output_dir_2',size=1)"
   ]
  },
  {
   "cell_type": "code",
   "execution_count": null,
   "metadata": {},
   "outputs": [],
   "source": []
  }
 ],
 "metadata": {
  "kernelspec": {
   "display_name": ".environment",
   "language": "python",
   "name": "python3"
  },
  "language_info": {
   "codemirror_mode": {
    "name": "ipython",
    "version": 3
   },
   "file_extension": ".py",
   "mimetype": "text/x-python",
   "name": "python",
   "nbconvert_exporter": "python",
   "pygments_lexer": "ipython3",
   "version": "3.10.12"
  },
  "orig_nbformat": 4
 },
 "nbformat": 4,
 "nbformat_minor": 2
}
